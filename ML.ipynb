{
  "nbformat": 4,
  "nbformat_minor": 0,
  "metadata": {
    "colab": {
      "provenance": [],
      "authorship_tag": "ABX9TyNbJdyUkQ7w86azFtX8nyKD",
      "include_colab_link": true
    },
    "kernelspec": {
      "name": "python3",
      "display_name": "Python 3"
    },
    "language_info": {
      "name": "python"
    }
  },
  "cells": [
    {
      "cell_type": "markdown",
      "metadata": {
        "id": "view-in-github",
        "colab_type": "text"
      },
      "source": [
        "<a href=\"https://colab.research.google.com/github/SejalLambat19/Machine-Learning/blob/main/ML.ipynb\" target=\"_parent\"><img src=\"https://colab.research.google.com/assets/colab-badge.svg\" alt=\"Open In Colab\"/></a>"
      ]
    },
    {
      "cell_type": "code",
      "execution_count": null,
      "metadata": {
        "id": "l0IfUk3KgKsI"
      },
      "outputs": [],
      "source": [
        "tup = (45,29,17,\"red\")\n",
        "print(type(tup),tup)\n",
        "tup1 = (1)            #sol tup1 = (1,)\n",
        "# tup[0]=45\n",
        "print(tup[0])\n",
        "\n",
        "if 17 in tup:\n",
        "  print(\"Yes 17 present\")\n",
        "tup2 = tup[1:3]\n",
        "print(tup2)"
      ]
    }
  ]
}