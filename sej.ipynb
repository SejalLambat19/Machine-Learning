{
  "nbformat": 4,
  "nbformat_minor": 0,
  "metadata": {
    "colab": {
      "provenance": [],
      "authorship_tag": "ABX9TyNbJdyUkQ7w86azFtX8nyKD",
      "include_colab_link": true
    },
    "kernelspec": {
      "name": "python3",
      "display_name": "Python 3"
    },
    "language_info": {
      "name": "python"
    }
  },
  "cells": [
    {
      "cell_type": "markdown",
      "metadata": {
        "id": "view-in-github",
        "colab_type": "text"
      },
      "source": [
        "<a href=\"https://colab.research.google.com/github/SejalLambat19/Machine-Learning/blob/main/sej.ipynb\" target=\"_parent\"><img src=\"https://colab.research.google.com/assets/colab-badge.svg\" alt=\"Open In Colab\"/></a>"
      ]
    },
    {
      "cell_type": "code",
      "execution_count": 1,
      "metadata": {
        "colab": {
          "base_uri": "https://localhost:8080/"
        },
        "id": "o1Il1r6oje_o",
        "outputId": "2146a440-f95d-44b4-ccde-fe0df32c23ab"
      },
      "outputs": [
        {
          "output_type": "stream",
          "name": "stdout",
          "text": [
            "<class 'tuple'> (45, 29, 17, 'red')\n",
            "45\n",
            "Yes 17 present\n",
            "(29, 17)\n"
          ]
        }
      ],
      "source": [
        "tup = (45,29,17,\"red\")\n",
        "print(type(tup),tup)\n",
        "tup1 = (1)            #sol tup1 = (1,)\n",
        "# tup[0]=45\n",
        "print(tup[0])\n",
        "\n",
        "if 17 in tup:\n",
        "  print(\"Yes 17 present\")\n",
        "tup2 = tup[1:3]\n",
        "print(tup2)"
      ]
    }
  ]
}